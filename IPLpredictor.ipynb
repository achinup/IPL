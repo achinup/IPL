{
  "nbformat": 4,
  "nbformat_minor": 0,
  "metadata": {
    "colab": {
      "provenance": [],
      "authorship_tag": "ABX9TyMkYapV22KeV3KeF6r9Jqtr",
      "include_colab_link": true
    },
    "kernelspec": {
      "name": "python3",
      "display_name": "Python 3"
    },
    "language_info": {
      "name": "python"
    }
  },
  "cells": [
    {
      "cell_type": "markdown",
      "metadata": {
        "id": "view-in-github",
        "colab_type": "text"
      },
      "source": [
        "<a href=\"https://colab.research.google.com/github/achinup/IPL/blob/main/IPLpredictor.ipynb\" target=\"_parent\"><img src=\"https://colab.research.google.com/assets/colab-badge.svg\" alt=\"Open In Colab\"/></a>"
      ]
    },
    {
      "cell_type": "code",
      "source": [
        "import numpy as np\n",
        "import pandas as pd"
      ],
      "metadata": {
        "id": "7C7hesJxt08s"
      },
      "execution_count": null,
      "outputs": []
    },
    {
      "cell_type": "code",
      "source": [
        "match = pd.read_csv('/content/matches.csv')\n",
        "delivery = pd.read_csv('/content/deliveries.csv')"
      ],
      "metadata": {
        "id": "wToanDw401Db"
      },
      "execution_count": null,
      "outputs": []
    },
    {
      "cell_type": "code",
      "source": [
        "match.head()"
      ],
      "metadata": {
        "id": "ma7yXTIy03vT"
      },
      "execution_count": null,
      "outputs": []
    },
    {
      "cell_type": "code",
      "source": [
        "match.shape"
      ],
      "metadata": {
        "id": "sZqKBP6X08Lt"
      },
      "execution_count": null,
      "outputs": []
    },
    {
      "cell_type": "code",
      "source": [
        "delivery.head()"
      ],
      "metadata": {
        "id": "oGqRs-0M1DSz"
      },
      "execution_count": null,
      "outputs": []
    },
    {
      "cell_type": "code",
      "source": [
        "delivery.shape"
      ],
      "metadata": {
        "id": "Sztgs7T1sGDm"
      },
      "execution_count": null,
      "outputs": []
    },
    {
      "cell_type": "code",
      "source": [
        "total_score_df = delivery.groupby(['match_id','inning']).sum()['total_runs'].reset_index()"
      ],
      "metadata": {
        "id": "x_K94hWg1F-7"
      },
      "execution_count": null,
      "outputs": []
    },
    {
      "cell_type": "code",
      "source": [
        "total_score_df"
      ],
      "metadata": {
        "id": "D4eHTgOYfDGw"
      },
      "execution_count": null,
      "outputs": []
    },
    {
      "cell_type": "code",
      "source": [
        "total_score_df.shape"
      ],
      "metadata": {
        "colab": {
          "base_uri": "https://localhost:8080/"
        },
        "id": "EStMUoMz9eEH",
        "outputId": "ceb05750-f3c4-47f1-cdba-cfe702766869"
      },
      "execution_count": null,
      "outputs": [
        {
          "output_type": "execute_result",
          "data": {
            "text/plain": [
              "(1528, 3)"
            ]
          },
          "metadata": {},
          "execution_count": 8
        }
      ]
    },
    {
      "cell_type": "code",
      "source": [
        "total_score_df = total_score_df[total_score_df['inning'] == 1]"
      ],
      "metadata": {
        "id": "pFnyfy_y1OdT"
      },
      "execution_count": null,
      "outputs": []
    },
    {
      "cell_type": "code",
      "source": [
        "total_score_df"
      ],
      "metadata": {
        "id": "3LOEHyg81Rl2"
      },
      "execution_count": null,
      "outputs": []
    },
    {
      "cell_type": "code",
      "source": [
        "total_score_df.shape"
      ],
      "metadata": {
        "id": "YoU0sAuqreVm"
      },
      "execution_count": null,
      "outputs": []
    },
    {
      "cell_type": "code",
      "source": [
        "match_df = match.merge(total_score_df[['match_id','total_runs']],left_on='id',right_on='match_id')#merging total score and match_id only"
      ],
      "metadata": {
        "id": "QJB5lYdD1U_j"
      },
      "execution_count": null,
      "outputs": []
    },
    {
      "cell_type": "code",
      "source": [
        "match_df.shape"
      ],
      "metadata": {
        "id": "4_WAjhguphhN"
      },
      "execution_count": null,
      "outputs": []
    },
    {
      "cell_type": "code",
      "source": [
        "match_df"
      ],
      "metadata": {
        "id": "5G7bP9Sv1VwG"
      },
      "execution_count": null,
      "outputs": []
    },
    {
      "cell_type": "code",
      "source": [
        "match_df['team1'].unique()"
      ],
      "metadata": {
        "id": "tIDiNeVu1V6X"
      },
      "execution_count": null,
      "outputs": []
    },
    {
      "cell_type": "code",
      "source": [
        "teams = [\n",
        "    'Sunrisers Hyderabad',\n",
        "    'Mumbai Indians',\n",
        "    'Royal Challengers Bangalore',\n",
        "    'Kolkata Knight Riders',\n",
        "    'Kings XI Punjab',\n",
        "    'Chennai Super Kings',\n",
        "    'Rajasthan Royals',\n",
        "    'Delhi Capitals'\n",
        "]"
      ],
      "metadata": {
        "id": "dd7Hz-bW1WBu"
      },
      "execution_count": null,
      "outputs": []
    },
    {
      "cell_type": "code",
      "source": [
        "#Replacing the teame\n",
        "match_df['team1'] = match_df['team1'].str.replace('Delhi Daredevils','Delhi Capitals')\n",
        "match_df['team2'] = match_df['team2'].str.replace('Delhi Daredevils','Delhi Capitals')\n",
        "\n",
        "match_df['team1'] = match_df['team1'].str.replace('Deccan Chargers','Sunrisers Hyderabad')\n",
        "match_df['team2'] = match_df['team2'].str.replace('Deccan Chargers','Sunrisers Hyderabad')"
      ],
      "metadata": {
        "id": "lzeAkRXT1WI_"
      },
      "execution_count": null,
      "outputs": []
    },
    {
      "cell_type": "code",
      "source": [
        "match_df = match_df[match_df['team1'].isin(teams)]\n",
        "match_df = match_df[match_df['team2'].isin(teams)]"
      ],
      "metadata": {
        "id": "FiZ9-Jun1mcU"
      },
      "execution_count": null,
      "outputs": []
    },
    {
      "cell_type": "code",
      "source": [
        "match_df.shape"
      ],
      "metadata": {
        "id": "xWv2qtYR1oib"
      },
      "execution_count": null,
      "outputs": []
    },
    {
      "cell_type": "code",
      "source": [
        "\n",
        "match_df = match_df[match_df['dl_applied'] == 0]\n",
        "match_df = match_df[['match_id','city','winner','total_runs']]\n"
      ],
      "metadata": {
        "id": "2FsNNMWt1oti"
      },
      "execution_count": null,
      "outputs": []
    },
    {
      "cell_type": "code",
      "source": [
        "match_df.shape"
      ],
      "metadata": {
        "id": "QI_YOZFJwI7q"
      },
      "execution_count": null,
      "outputs": []
    },
    {
      "cell_type": "code",
      "source": [
        "delivery_df = match_df.merge(delivery,on='match_id')"
      ],
      "metadata": {
        "id": "Lu-T1J3q1o2N"
      },
      "execution_count": null,
      "outputs": []
    },
    {
      "cell_type": "code",
      "source": [
        "delivery_df = delivery_df[delivery_df['inning'] == 2]"
      ],
      "metadata": {
        "id": "PmsQt9xc1o8f"
      },
      "execution_count": null,
      "outputs": []
    },
    {
      "cell_type": "code",
      "source": [
        "delivery_df"
      ],
      "metadata": {
        "id": "1yTiHleQ13xC"
      },
      "execution_count": null,
      "outputs": []
    },
    {
      "cell_type": "code",
      "source": [
        "delivery_df.shape"
      ],
      "metadata": {
        "id": "xjwaPPfExCNF"
      },
      "execution_count": null,
      "outputs": []
    },
    {
      "cell_type": "code",
      "source": [
        "delivery_df['current_score'] = delivery_df.groupby('match_id').cumsum()['total_runs_y']#yin each ball run"
      ],
      "metadata": {
        "id": "YvHCkZ_215pI"
      },
      "execution_count": null,
      "outputs": []
    },
    {
      "cell_type": "code",
      "source": [
        "delivery_df['runs_left'] = delivery_df['total_runs_x'] - delivery_df['current_score']#xfirst inning run"
      ],
      "metadata": {
        "id": "OXU5Npam19ih"
      },
      "execution_count": null,
      "outputs": []
    },
    {
      "cell_type": "code",
      "source": [
        "delivery_df['balls_left'] = 126 - (delivery_df['over']*6 + delivery_df['ball'])"
      ],
      "metadata": {
        "id": "_SuAmljV1-Jr"
      },
      "execution_count": null,
      "outputs": []
    },
    {
      "cell_type": "code",
      "source": [
        "delivery_df"
      ],
      "metadata": {
        "id": "7bG2pDdn2DSz"
      },
      "execution_count": null,
      "outputs": []
    },
    {
      "cell_type": "code",
      "source": [
        "delivery_df['player_dismissed'] = delivery_df['player_dismissed'].fillna(\"0\")#replacing na with \"0\"\n",
        "delivery_df['player_dismissed'] = delivery_df['player_dismissed'].apply(lambda x:x if x == \"0\" else \"1\")#replacing other than na with \"1\"\n",
        "delivery_df['player_dismissed'] = delivery_df['player_dismissed'].astype('int')#converting \"0\" and \"1\" to int\n",
        "wickets = delivery_df.groupby('match_id').cumsum()['player_dismissed'].values\n",
        "delivery_df['wickets'] = 10 - wickets#number of wicket left\n",
        "delivery_df.head()"
      ],
      "metadata": {
        "id": "ulMfaP6m2FG0"
      },
      "execution_count": null,
      "outputs": []
    },
    {
      "cell_type": "code",
      "source": [
        "\n",
        "delivery_df.head()"
      ],
      "metadata": {
        "id": "S3u3xDeO2IkZ"
      },
      "execution_count": null,
      "outputs": []
    },
    {
      "cell_type": "code",
      "source": [
        "# crr = runs/overs\n",
        "delivery_df['crr'] = (delivery_df['current_score']*6)/(120 - delivery_df['balls_left'])"
      ],
      "metadata": {
        "id": "U24fBka82Kw-"
      },
      "execution_count": null,
      "outputs": []
    },
    {
      "cell_type": "code",
      "source": [
        "delivery_df['rrr'] = (delivery_df['runs_left']*6)/delivery_df['balls_left']"
      ],
      "metadata": {
        "id": "grhjFx7q2NA6"
      },
      "execution_count": null,
      "outputs": []
    },
    {
      "cell_type": "code",
      "source": [
        "def result(row):\n",
        "    return 1 if row['batting_team'] == row['winner'] else 0#if batting_team win than 1 else 0"
      ],
      "metadata": {
        "id": "6ZvKpRSS2PYV"
      },
      "execution_count": null,
      "outputs": []
    },
    {
      "cell_type": "code",
      "source": [
        "delivery_df['result'] = delivery_df.apply(result,axis=1)   #just calling and assigining values"
      ],
      "metadata": {
        "id": "hkXCg4W72RPr"
      },
      "execution_count": null,
      "outputs": []
    },
    {
      "cell_type": "code",
      "source": [
        "delivery_df.shape"
      ],
      "metadata": {
        "colab": {
          "base_uri": "https://localhost:8080/"
        },
        "id": "bvFG0KjZtI4a",
        "outputId": "c07362bf-9bc3-4209-9aa0-e13382d70018"
      },
      "execution_count": null,
      "outputs": [
        {
          "output_type": "execute_result",
          "data": {
            "text/plain": [
              "(72413, 31)"
            ]
          },
          "metadata": {},
          "execution_count": 20
        }
      ]
    },
    {
      "cell_type": "code",
      "source": [
        "delivery_df.head()"
      ],
      "metadata": {
        "id": "fp6xYnf3rjip"
      },
      "execution_count": null,
      "outputs": []
    },
    {
      "cell_type": "code",
      "source": [
        "final_df = delivery_df[['batting_team','bowling_team','city','runs_left','balls_left','wickets','total_runs_x','crr','rrr','result']]"
      ],
      "metadata": {
        "id": "nx5UMsuw2TTv"
      },
      "execution_count": null,
      "outputs": []
    },
    {
      "cell_type": "code",
      "source": [
        "final_df"
      ],
      "metadata": {
        "id": "uLUocI0czOSq"
      },
      "execution_count": null,
      "outputs": []
    },
    {
      "cell_type": "code",
      "source": [
        "final_df = final_df.sample(final_df.shape[0])  #just shuffling rows\n"
      ],
      "metadata": {
        "id": "VU6d640O2TaS"
      },
      "execution_count": null,
      "outputs": []
    },
    {
      "cell_type": "code",
      "source": [
        "final_df.shape"
      ],
      "metadata": {
        "colab": {
          "base_uri": "https://localhost:8080/"
        },
        "id": "pBAgxln2vRKy",
        "outputId": "9eae6561-c246-43bb-fca5-96202faa9cc5"
      },
      "execution_count": null,
      "outputs": [
        {
          "output_type": "execute_result",
          "data": {
            "text/plain": [
              "(72413, 10)"
            ]
          },
          "metadata": {},
          "execution_count": 38
        }
      ]
    },
    {
      "cell_type": "code",
      "source": [
        "final_df"
      ],
      "metadata": {
        "id": "tJiOoMLJvXui"
      },
      "execution_count": null,
      "outputs": []
    },
    {
      "cell_type": "code",
      "source": [
        "final_df.sample()#just get sample"
      ],
      "metadata": {
        "id": "3tlHK3LY2w8d"
      },
      "execution_count": null,
      "outputs": []
    },
    {
      "cell_type": "code",
      "source": [
        "final_df.isnull().sum()"
      ],
      "metadata": {
        "id": "4CPW7ykHlxUu"
      },
      "execution_count": null,
      "outputs": []
    },
    {
      "cell_type": "code",
      "source": [
        "final_df.dropna(inplace=True)#removing the null one"
      ],
      "metadata": {
        "id": "LxdNDnwn2xEz"
      },
      "execution_count": null,
      "outputs": []
    },
    {
      "cell_type": "code",
      "source": [
        "zer0_df=final_df[final_df['balls_left'] == 0]"
      ],
      "metadata": {
        "id": "lm2rzaFFok3r"
      },
      "execution_count": null,
      "outputs": []
    },
    {
      "cell_type": "code",
      "source": [
        "final_df.describe()"
      ],
      "metadata": {
        "id": "ZcjhVQPJqrMI"
      },
      "execution_count": null,
      "outputs": []
    },
    {
      "cell_type": "code",
      "source": [
        "zer0_df.tail"
      ],
      "metadata": {
        "id": "RvDl6Dvuo6RG"
      },
      "execution_count": null,
      "outputs": []
    },
    {
      "cell_type": "code",
      "source": [
        "final_df = final_df[final_df['balls_left'] != 0]#19.5 thak le"
      ],
      "metadata": {
        "id": "yvwMAgpJ2xJz"
      },
      "execution_count": null,
      "outputs": []
    },
    {
      "cell_type": "code",
      "source": [
        "#Extra add\n",
        "# final_df=final_df[final_df['total_runs_x']<120]"
      ],
      "metadata": {
        "id": "3sVwW7alkdLG"
      },
      "execution_count": null,
      "outputs": []
    },
    {
      "cell_type": "code",
      "source": [
        "X = final_df.iloc[:,:-1]\n",
        "y = final_df.iloc[:,-1]\n",
        "from sklearn.model_selection import train_test_split\n",
        "X_train,X_test,y_train,y_test = train_test_split(X,y,test_size=0.2,random_state=1 )"
      ],
      "metadata": {
        "id": "XP4ZtZOA2xNZ"
      },
      "execution_count": null,
      "outputs": []
    },
    {
      "cell_type": "code",
      "source": [
        "X_train"
      ],
      "metadata": {
        "id": "B-AdxMNY25to"
      },
      "execution_count": null,
      "outputs": []
    },
    {
      "cell_type": "code",
      "source": [
        "ohe=OneHotEncoder(drop='first',sparse=False)\n",
        "xx=ohe.fit_transform(X_train[['batting_team','bowling_team','city']])\n",
        "xx.shape"
      ],
      "metadata": {
        "id": "WNVRzATtDRPP"
      },
      "execution_count": null,
      "outputs": []
    },
    {
      "cell_type": "code",
      "source": [
        "from sklearn.compose import ColumnTransformer\n",
        "from sklearn.preprocessing import OneHotEncoder\n",
        "\n",
        "trf = ColumnTransformer([\n",
        "    ('trf',OneHotEncoder(sparse=False,drop='first'),['batting_team','bowling_team','city'])#D\n",
        "]\n",
        ",remainder='passthrough')"
      ],
      "metadata": {
        "id": "gIlb-RGC27pL"
      },
      "execution_count": null,
      "outputs": []
    },
    {
      "cell_type": "code",
      "source": [
        "trf"
      ],
      "metadata": {
        "id": "shRjm5R2AWrx"
      },
      "execution_count": null,
      "outputs": []
    },
    {
      "cell_type": "code",
      "source": [
        "from sklearn.linear_model import LogisticRegression\n",
        "from sklearn.ensemble import RandomForestClassifier\n",
        "from sklearn.pipeline import Pipeline"
      ],
      "metadata": {
        "id": "33Q1_iZy27xX"
      },
      "execution_count": null,
      "outputs": []
    },
    {
      "cell_type": "code",
      "source": [
        "pipe = Pipeline(steps=[\n",
        "    ('step1',trf),\n",
        "    ('step2',LogisticRegression(solver='liblinear'))#D\n",
        "])"
      ],
      "metadata": {
        "id": "JYwdImq53Mvf"
      },
      "execution_count": null,
      "outputs": []
    },
    {
      "cell_type": "code",
      "source": [
        "\n",
        "pipe.fit(X_train,y_train)#D"
      ],
      "metadata": {
        "id": "r-xK91l93M5g"
      },
      "execution_count": null,
      "outputs": []
    },
    {
      "cell_type": "code",
      "source": [
        "y_pred = pipe.predict(X_test)#D"
      ],
      "metadata": {
        "id": "ZpSkOTqf3SAJ"
      },
      "execution_count": null,
      "outputs": []
    },
    {
      "cell_type": "code",
      "source": [
        "from sklearn.metrics import accuracy_score\n",
        "accuracy_score(y_test,y_pred)#D"
      ],
      "metadata": {
        "id": "cgvaD5uF3SHE",
        "colab": {
          "base_uri": "https://localhost:8080/"
        },
        "outputId": "36b15496-c224-4aee-b4cd-c393fab4a936"
      },
      "execution_count": null,
      "outputs": [
        {
          "output_type": "execute_result",
          "data": {
            "text/plain": [
              "0.9988662131519275"
            ]
          },
          "metadata": {},
          "execution_count": 41
        }
      ]
    },
    {
      "cell_type": "code",
      "source": [
        "pipe.predict_proba(X_test)[10]"
      ],
      "metadata": {
        "colab": {
          "base_uri": "https://localhost:8080/"
        },
        "id": "DKErcyc23Wg_",
        "outputId": "29b11e9a-db29-401a-9dc1-06f8ed6bd07f"
      },
      "execution_count": null,
      "outputs": [
        {
          "output_type": "execute_result",
          "data": {
            "text/plain": [
              "array([3.97526219e-04, 9.99602474e-01])"
            ]
          },
          "metadata": {},
          "execution_count": 42
        }
      ]
    },
    {
      "cell_type": "code",
      "source": [
        "def match_summary(row):\n",
        "    print(\"Batting Team-\" + row['batting_team'] + \" | Bowling Team-\" + row['bowling_team'] + \" | Target- \" + str(row['total_runs_x']))\n"
      ],
      "metadata": {
        "id": "pwAzbiRt3WpR"
      },
      "execution_count": null,
      "outputs": []
    },
    {
      "cell_type": "code",
      "source": [
        "def match_progression(x_df,match_id,pipe):\n",
        "    match = x_df[x_df['match_id'] == match_id]\n",
        "    match = match[(match['ball'] == 6)]\n",
        "    temp_df = match[['batting_team','bowling_team','city','runs_left','balls_left','wickets','total_runs_x','crr','rrr']].dropna()\n",
        "    temp_df = temp_df[temp_df['balls_left'] != 0]\n",
        "    result = pipe.predict_proba(temp_df)\n",
        "    temp_df['lose'] = np.round(result.T[0]*100,1)\n",
        "    temp_df['win'] = np.round(result.T[1]*100,1)\n",
        "    temp_df['end_of_over'] = range(1,temp_df.shape[0]+1)\n",
        "\n",
        "    target = temp_df['total_runs_x'].values[0]\n",
        "    runs = list(temp_df['runs_left'].values)\n",
        "    new_runs = runs[:]\n",
        "    runs.insert(0,target)\n",
        "    temp_df['runs_after_over'] = np.array(runs)[:-1] - np.array(new_runs)\n",
        "    wickets = list(temp_df['wickets'].values)\n",
        "    new_wickets = wickets[:]\n",
        "    new_wickets.insert(0,10)\n",
        "    wickets.append(0)\n",
        "    w = np.array(wickets)\n",
        "    nw = np.array(new_wickets)\n",
        "    temp_df['wickets_in_over'] = (nw - w)[0:temp_df.shape[0]]\n",
        "\n",
        "    print(\"Target-\",target)\n",
        "    temp_df = temp_df[['end_of_over','runs_after_over','wickets_in_over','lose','win']]\n",
        "    return temp_df,target\n",
        "\n"
      ],
      "metadata": {
        "id": "r_NUgwc03Wt_"
      },
      "execution_count": null,
      "outputs": []
    },
    {
      "cell_type": "code",
      "source": [
        "temp_df,target= match_progression(delivery_df,10,pipe)\n",
        "\n",
        "temp_df\n"
      ],
      "metadata": {
        "id": "12rjRagN3ktr"
      },
      "execution_count": null,
      "outputs": []
    },
    {
      "cell_type": "code",
      "source": [
        "import matplotlib.pyplot as plt\n",
        "plt.figure(figsize=(18,8))\n",
        "plt.plot(temp_df['end_of_over'],temp_df['wickets_in_over'],color='yellow',linewidth=3)\n",
        "plt.plot(temp_df['end_of_over'],temp_df['win'],color='#00a65a',linewidth=4)\n",
        "plt.plot(temp_df['end_of_over'],temp_df['lose'],color='red',linewidth=4)\n",
        "plt.bar(temp_df['end_of_over'],temp_df['runs_after_over'])\n",
        "plt.title('Target-' + str(target))"
      ],
      "metadata": {
        "id": "ebroFTig3njU"
      },
      "execution_count": null,
      "outputs": []
    },
    {
      "cell_type": "code",
      "source": [
        "teams"
      ],
      "metadata": {
        "id": "dKHmBzT93ntl"
      },
      "execution_count": null,
      "outputs": []
    },
    {
      "cell_type": "code",
      "source": [
        "!pip install streamlit\n"
      ],
      "metadata": {
        "id": "AU0rRZm33LpS"
      },
      "execution_count": null,
      "outputs": []
    },
    {
      "cell_type": "code",
      "source": [
        "delivery_df['city'].unique()"
      ],
      "metadata": {
        "id": "0sWWuwPV3zpL"
      },
      "execution_count": null,
      "outputs": []
    },
    {
      "cell_type": "code",
      "source": [],
      "metadata": {
        "id": "SuJbEOGnopF5"
      },
      "execution_count": null,
      "outputs": []
    },
    {
      "cell_type": "code",
      "source": [],
      "metadata": {
        "id": "IQWxX4lkopir"
      },
      "execution_count": null,
      "outputs": []
    },
    {
      "cell_type": "code",
      "source": [
        "\n",
        "import pickle\n",
        "pickle.dump(pipe,open('score.pkl','wb'))"
      ],
      "metadata": {
        "id": "2AtHz69h3s-C"
      },
      "execution_count": null,
      "outputs": []
    },
    {
      "cell_type": "code",
      "source": [
        "import streamlit as st\n",
        "import pickle\n",
        "import pandas as pd\n",
        "import numpy as np\n",
        "\n",
        "# Load the pre-trained model\n",
        "pipe = pickle.load(open('/content/score.pkl', 'rb'))\n",
        "\n",
        "# IPL teams and cities\n",
        "teams = [\n",
        "    'Sunrisers Hyderabad', 'Mumbai Indians', 'Royal Challengers Bangalore',\n",
        "    'Kolkata Knight Riders', 'Kings XI Punjab', 'Chennai Super Kings',\n",
        "    'Rajasthan Royals', 'Delhi Capitals'\n",
        "]\n",
        "\n",
        "cities = [\n",
        "    'Hyderabad', 'Bangalore', 'Mumbai', 'Indore', 'Kolkata', 'Delhi',\n",
        "    'Chandigarh', 'Jaipur', 'Chennai', 'Cape Town', 'Port Elizabeth',\n",
        "    'Durban', 'Centurion', 'East London', 'Johannesburg', 'Kimberley',\n",
        "    'Bloemfontein', 'Ahmedabad', 'Cuttack', 'Nagpur', 'Dharamsala',\n",
        "    'Visakhapatnam', 'Pune', 'Raipur', 'Ranchi', 'Abu Dhabi',\n",
        "    'Sharjah', 'Mohali', 'Bengaluru'\n",
        "]\n",
        "\n",
        "# Take input from the user\n",
        "batting_team = input('Select the batting team ')\n",
        "bowling_team = input('Select the bowling team ')\n",
        "selected_city = input('Select host city ')\n",
        "total_target = int(input('Enter total target'))\n",
        "current_score = int(input('Enter current score'))\n",
        "wickets = int(input('Enter wickets out'))\n",
        "overs_completed = int(input('Enter overs completed'))\n",
        "\n",
        "# Calculate additional parameters\n",
        "runs_left = total_target - current_score\n",
        "balls_left = (20 - overs_completed) * 6\n",
        "wickets_left = 10 - wickets\n",
        "crr = current_score / overs_completed if overs_completed > 0 else 0\n",
        "rrr = (runs_left * 6) / balls_left if balls_left > 0 else 0\n",
        "\n",
        "# Make a prediction\n",
        "input_data = {\n",
        "    'batting_team': [batting_team],\n",
        "    'bowling_team': [bowling_team],\n",
        "    'city': [selected_city],\n",
        "    'runs_left': [runs_left],\n",
        "    'balls_left': [balls_left],\n",
        "    'wickets': [wickets_left],\n",
        "    'total_runs_x': [total_target],\n",
        "    'crr': [crr],\n",
        "    'rrr': [rrr]\n",
        "}\n",
        "\n",
        "\n",
        "\n",
        "input_df = pd.DataFrame(input_data)\n",
        "result = pipe.predict_proba(input_df)\n",
        "\n",
        "\n",
        "print(f\"Batting Team: {batting_team}\")\n",
        "print(f\"Bowling Team: {bowling_team}\")\n",
        "print(f\"Host City: {selected_city}\")\n",
        "print(f\"Current Score: {current_score}\")\n",
        "print(f\"Total Target: {total_target}\")\n",
        "print(f\"Wickets Out: {wickets}\")\n",
        "print(f\"Overs Completed: {overs_completed}\")\n",
        "print(f\"CRR (Current Run Rate): {crr}\")\n",
        "\n",
        "print(f\"RRR (Required Run Rate): {rrr}\")\n",
        "print(f\"Probability of Winning bowling team is: {round(result[0][0] * 100)}%\")\n",
        "print(f\"Probability of Winning batting team is: {round(result[0][1] * 100)}%\")\n",
        "\n"
      ],
      "metadata": {
        "id": "vf-xg5CG3zxy"
      },
      "execution_count": null,
      "outputs": []
    },
    {
      "cell_type": "code",
      "source": [
        "\n"
      ],
      "metadata": {
        "id": "7o-K-D6lVJcy"
      },
      "execution_count": null,
      "outputs": []
    }
  ]
}